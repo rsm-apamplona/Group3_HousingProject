{
 "cells": [
  {
   "cell_type": "code",
   "execution_count": 1,
   "metadata": {},
   "outputs": [],
   "source": [
    "import pandas as pd\n",
    "from datetime import datetime, timedelta\n",
    "\n",
    "# whatnot\n",
    "dolfin = pd.read_csv('Redfin_data/zillow_housing_city.csv')\n",
    "orca = pd.read_csv('Redfin_data/zillow_rental_city.csv')\n",
    "\n",
    "today = datetime.now()\n",
    "last_yr = today - timedelta(days=365)"
   ]
  },
  {
   "cell_type": "code",
   "execution_count": 2,
   "metadata": {},
   "outputs": [],
   "source": [
    "sd_county = dolfin.loc[dolfin.CountyName == 'San Diego County'].drop(columns = ['RegionID', 'SizeRank', 'RegionType', 'State', 'StateName', 'Metro', 'CountyName'])\n",
    "melted = sd_county.melt(id_vars = ['RegionName'], var_name = 'Date', value_name = 'AvgHomeValue')\n",
    "melted.dropna(subset=['AvgHomeValue'], inplace=True)\n",
    "melted.reset_index(drop=True, inplace=True)\n",
    "melted['Date'] = pd.to_datetime(melted['Date'])\n",
    "rolling12 = melted.loc[melted.Date >= last_yr]\n",
    "r12_grp = rolling12.groupby('RegionName').agg({'AvgHomeValue': 'mean'}).reset_index()"
   ]
  },
  {
   "cell_type": "code",
   "execution_count": 3,
   "metadata": {},
   "outputs": [],
   "source": [
    "sd_rents = orca.loc[orca.CountyName == 'San Diego County'].drop(columns = ['RegionID', 'SizeRank', 'RegionType', 'State', 'StateName', 'Metro', 'CountyName'])\n",
    "melted_rents = sd_rents.melt(id_vars = ['RegionName'], var_name = 'Date', value_name = 'AvgRent')\n",
    "melted_rents.dropna(subset=['AvgRent'], inplace=True)\n",
    "melted_rents.reset_index(drop=True, inplace=True)\n",
    "melted_rents['Date'] = pd.to_datetime(melted_rents['Date'])\n",
    "rolling12_rents = melted_rents.loc[melted_rents.Date >= last_yr]\n",
    "r12_grp_rents = rolling12_rents.groupby('RegionName').agg({'AvgRent': 'mean'}).reset_index()"
   ]
  },
  {
   "cell_type": "code",
   "execution_count": 4,
   "metadata": {},
   "outputs": [],
   "source": [
    "beluga = pd.merge(r12_grp, r12_grp_rents, on='RegionName', how='inner').rename(columns = {'RegionName': 'name', 'AvgHomeValue': 'price', 'AvgRent': 'rent'})\n",
    "#beluga.to_csv('beluga.csv', index=False) #used chatgpt to obtain lats and longs\n",
    "locs = pd.read_csv('locs.csv')"
   ]
  },
  {
   "cell_type": "code",
   "execution_count": 8,
   "metadata": {},
   "outputs": [
    {
     "data": {
      "text/plain": [
       "[{'name': 'Alpine', 'price': 952268, 'rent': 2281, 'loc': [32.835, -116.7664]},\n",
       " {'name': 'Bonita',\n",
       "  'price': 1091441,\n",
       "  'rent': 4000,\n",
       "  'loc': [32.6601, -117.0313]},\n",
       " {'name': 'Carlsbad',\n",
       "  'price': 1495225,\n",
       "  'rent': 3611,\n",
       "  'loc': [33.1581, -117.3506]},\n",
       " {'name': 'Chula Vista',\n",
       "  'price': 834391,\n",
       "  'rent': 2992,\n",
       "  'loc': [32.6401, -117.0842]},\n",
       " {'name': 'Coronado',\n",
       "  'price': 2455103,\n",
       "  'rent': 4327,\n",
       "  'loc': [32.6859, -117.1831]},\n",
       " {'name': 'Del Mar',\n",
       "  'price': 3557546,\n",
       "  'rent': 5831,\n",
       "  'loc': [32.9595, -117.2653]},\n",
       " {'name': 'El Cajon',\n",
       "  'price': 797367,\n",
       "  'rent': 2411,\n",
       "  'loc': [32.7948, -116.9625]},\n",
       " {'name': 'Encinitas',\n",
       "  'price': 1842145,\n",
       "  'rent': 4171,\n",
       "  'loc': [33.0369, -117.2919]},\n",
       " {'name': 'Escondido',\n",
       "  'price': 832490,\n",
       "  'rent': 2678,\n",
       "  'loc': [33.1192, -117.0864]},\n",
       " {'name': 'Fallbrook',\n",
       "  'price': 854175,\n",
       "  'rent': 3161,\n",
       "  'loc': [33.3764, -117.2511]},\n",
       " {'name': 'Imperial Beach',\n",
       "  'price': 858853,\n",
       "  'rent': 2763,\n",
       "  'loc': [32.5839, -117.1131]},\n",
       " {'name': 'La Mesa',\n",
       "  'price': 878091,\n",
       "  'rent': 2580,\n",
       "  'loc': [32.7678, -117.0231]},\n",
       " {'name': 'Lakeside',\n",
       "  'price': 788037,\n",
       "  'rent': 2451,\n",
       "  'loc': [32.8573, -116.9222]},\n",
       " {'name': 'Lemon Grove',\n",
       "  'price': 727004,\n",
       "  'rent': 2605,\n",
       "  'loc': [32.7426, -117.0313]},\n",
       " {'name': 'National City',\n",
       "  'price': 658325,\n",
       "  'rent': 2453,\n",
       "  'loc': [32.6781, -117.0992]},\n",
       " {'name': 'Oceanside',\n",
       "  'price': 845990,\n",
       "  'rent': 2867,\n",
       "  'loc': [33.1959, -117.3795]},\n",
       " {'name': 'Poway',\n",
       "  'price': 1189801,\n",
       "  'rent': 3253,\n",
       "  'loc': [32.9628, -117.0359]},\n",
       " {'name': 'Ramona',\n",
       "  'price': 788225,\n",
       "  'rent': 2274,\n",
       "  'loc': [33.0417, -116.8689]},\n",
       " {'name': 'Rancho Santa Fe',\n",
       "  'price': 4144994,\n",
       "  'rent': 10374,\n",
       "  'loc': [33.0203, -117.2028]},\n",
       " {'name': 'San Diego',\n",
       "  'price': 986238,\n",
       "  'rent': 3008,\n",
       "  'loc': [32.7157, -117.1611]},\n",
       " {'name': 'San Marcos',\n",
       "  'price': 949915,\n",
       "  'rent': 3311,\n",
       "  'loc': [33.1434, -117.1661]},\n",
       " {'name': 'Santee',\n",
       "  'price': 784132,\n",
       "  'rent': 2750,\n",
       "  'loc': [32.8384, -116.9739]},\n",
       " {'name': 'Solana Beach',\n",
       "  'price': 2052720,\n",
       "  'rent': 5371,\n",
       "  'loc': [32.9912, -117.2711]},\n",
       " {'name': 'Spring Valley',\n",
       "  'price': 743058,\n",
       "  'rent': 2597,\n",
       "  'loc': [32.7448, -116.9989]},\n",
       " {'name': 'Vista', 'price': 852924, 'rent': 2710, 'loc': [33.2, -117.2425]}]"
      ]
     },
     "metadata": {},
     "output_type": "display_data"
    }
   ],
   "source": [
    "stingray = pd.merge(beluga, locs, on='name', how='inner')\n",
    "stingray['price'] = stingray['price'].astype(int)\n",
    "stingray['rent'] = stingray['rent'].astype(int)\n",
    "\n",
    "mantaray = stingray.to_dict(orient='records')\n",
    "for ray in mantaray:\n",
    "    ray['loc'] = [ray.pop('lat'), ray.pop('long')\n",
    "                      ]\n",
    "display(mantaray)"
   ]
  }
 ],
 "metadata": {
  "kernelspec": {
   "display_name": "base",
   "language": "python",
   "name": "python3"
  },
  "language_info": {
   "codemirror_mode": {
    "name": "ipython",
    "version": 3
   },
   "file_extension": ".py",
   "mimetype": "text/x-python",
   "name": "python",
   "nbconvert_exporter": "python",
   "pygments_lexer": "ipython3",
   "version": "3.11.9"
  }
 },
 "nbformat": 4,
 "nbformat_minor": 2
}
